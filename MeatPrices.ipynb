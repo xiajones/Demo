{
  "nbformat": 4,
  "nbformat_minor": 0,
  "metadata": {
    "colab": {
      "provenance": [],
      "authorship_tag": "ABX9TyPwnjKWeT1EmrI779VCZPgp",
      "include_colab_link": true
    },
    "kernelspec": {
      "name": "python3",
      "display_name": "Python 3"
    },
    "language_info": {
      "name": "python"
    }
  },
  "cells": [
    {
      "cell_type": "markdown",
      "metadata": {
        "id": "view-in-github",
        "colab_type": "text"
      },
      "source": [
        "<a href=\"https://colab.research.google.com/github/xiajones/Demo/blob/main/MeatPrices.ipynb\" target=\"_parent\"><img src=\"https://colab.research.google.com/assets/colab-badge.svg\" alt=\"Open In Colab\"/></a>"
      ]
    },
    {
      "cell_type": "code",
      "execution_count": null,
      "metadata": {
        "colab": {
          "base_uri": "https://localhost:8080/"
        },
        "id": "xPn_V-2WUmoj",
        "outputId": "6eb1a221-ec77-4beb-cabc-f21b3b32140b"
      },
      "outputs": [
        {
          "output_type": "stream",
          "name": "stdout",
          "text": [
            "Drive already mounted at /content/drive; to attempt to forcibly remount, call drive.mount(\"/content/drive\", force_remount=True).\n"
          ]
        }
      ],
      "source": [
        "from google.colab import drive\n",
        "drive.mount('/content/drive')"
      ]
    },
    {
      "cell_type": "code",
      "source": [
        "import pandas as pd\n",
        "# Define the path to the CSV file\n",
        "file_path = '/content/drive/My Drive/ISA3020/Chicken.csv'\n",
        "\n",
        "# Read the CSV file and clean it\n",
        "chicken = pd.read_csv(file_path, skiprows=4, names=['Date', 'Wholesale_Broiler_Composite', 'Retail_Broiler_Composite', 'Retail_Wholesale_Spread'])\n",
        "chicken['Date'] = pd.to_datetime(chicken['Date'], format='%b-%y', errors='coerce')\n",
        "chicken['Wholesale_Broiler_Composite'] = chicken['Wholesale_Broiler_Composite'].ffill()\n",
        "chicken = chicken.dropna(subset=['Retail_Broiler_Composite', 'Retail_Wholesale_Spread'])"
      ],
      "metadata": {
        "id": "-7eRld-gZJry"
      },
      "execution_count": null,
      "outputs": []
    },
    {
      "cell_type": "code",
      "source": [
        "file_path = '/content/drive/My Drive/ISA3020/Beef.csv'\n",
        "beef = pd.read_csv(file_path, skiprows=5, names=[\n",
        "    'Date', 'Byproduct', 'Gross_Farm_Value', 'Net_Farm_Value', 'Wholesale_Value',\n",
        "    'Retail_Value', 'Total_Spread', 'Farm_Wholesale_Spread', 'Wholesale_Retail_Spread',\n",
        "    'All_Fresh_Beef_Retail_Value'])\n",
        "\n",
        "beef['Date'] = pd.to_datetime(beef['Date'], errors='coerce')\n",
        "beef = beef.dropna(subset=['Date'])\n",
        "beef['Byproduct'] = beef['Byproduct'].ffill()\n",
        "beef['Gross_Farm_Value'] = beef['Gross_Farm_Value'].ffill()\n",
        "beef.dropna(subset=['Retail_Value', 'Wholesale_Value'], inplace=True)"
      ],
      "metadata": {
        "id": "ADQ_g4NUZcgL"
      },
      "execution_count": null,
      "outputs": []
    },
    {
      "cell_type": "code",
      "source": [
        "file_path = '/content/drive/My Drive/ISA3020/Pork.csv'\n",
        "pork = pd.read_csv(file_path, skiprows=5, names=[ 'Date', 'Byproduct', 'Gross_Farm_Value', 'Net_Farm_Value', 'Wholesale_Value', 'Retail_Value', 'Total_Spread', 'Farm_Wholesale_Spread', 'Wholesale_Retail_Spread'])\n",
        "\n",
        "pork['Date'] = pd.to_datetime(pork['Date'], format='%m/%d/%Y', errors='coerce')\n",
        "pork['Byproduct'] = pork['Byproduct'].ffill()\n",
        "pork['Gross_Farm_Value'] = pork['Gross_Farm_Value'].ffill()\n",
        "pork.dropna(subset=['Retail_Value', 'Wholesale_Value'], inplace=True)"
      ],
      "metadata": {
        "id": "9UgiB2BxZecS"
      },
      "execution_count": null,
      "outputs": []
    },
    {
      "cell_type": "code",
      "source": [
        "# How many entries are in the Beef dataset?\n",
        "num_entries_beef = len(beef)\n",
        "print(f\"Number of entries in Beef dataset: {num_entries_beef}\")"
      ],
      "metadata": {
        "colab": {
          "base_uri": "https://localhost:8080/"
        },
        "id": "Li4gVjpBdBN3",
        "outputId": "41e66bca-a4ca-42a2-cb99-9d5832546e06"
      },
      "execution_count": null,
      "outputs": [
        {
          "output_type": "stream",
          "name": "stdout",
          "text": [
            "Number of entries in Beef dataset: 648\n"
          ]
        }
      ]
    },
    {
      "cell_type": "code",
      "source": [
        "# What is the average byproduct value in the Beef dataset?\n",
        "average_byproduct_beef = beef['Byproduct'].mean()\n",
        "print(f\"Average byproduct value in Beef dataset: {average_byproduct_beef}\")"
      ],
      "metadata": {
        "colab": {
          "base_uri": "https://localhost:8080/"
        },
        "id": "cpQzryK5dE7_",
        "outputId": "e8f52614-8bc0-464d-8d18-60b3d8cc32cd"
      },
      "execution_count": null,
      "outputs": [
        {
          "output_type": "stream",
          "name": "stdout",
          "text": [
            "Average byproduct value in Beef dataset: 20.177777777777777\n"
          ]
        }
      ]
    },
    {
      "cell_type": "code",
      "source": [
        "# What is the average retail value across all datasets (Beef, Pork, Chicken)?\n",
        "average_retail_value = (beef['Retail_Value'].mean() + pork['Retail_Value'].mean() + chicken['Retail_Broiler_Composite'].mean()) / 3\n",
        "print(f\"Average retail value across all datasets: {average_retail_value}\")"
      ],
      "metadata": {
        "colab": {
          "base_uri": "https://localhost:8080/"
        },
        "id": "_ISLNMiMdIXf",
        "outputId": "8a71a413-5e11-4210-9a9a-59ec189d9548"
      },
      "execution_count": null,
      "outputs": [
        {
          "output_type": "stream",
          "name": "stdout",
          "text": [
            "Average retail value across all datasets: 258.23925744371826\n"
          ]
        }
      ]
    },
    {
      "cell_type": "code",
      "source": [
        "# Which dataset has the highest average retail value?\n",
        "datasets = ['Beef', 'Pork', 'Chicken']\n",
        "average_retail_values = [beef['Retail_Value'].mean(), pork['Retail_Value'].mean(), chicken['Retail_Broiler_Composite'].mean()]\n",
        "print(f\"Dataset with the highest average retail value: {datasets[average_retail_values.index(max(average_retail_values))]}\")"
      ],
      "metadata": {
        "colab": {
          "base_uri": "https://localhost:8080/"
        },
        "id": "II1VPqxodNDY",
        "outputId": "00ee7c6b-31db-4268-e61a-1f33222bb554"
      },
      "execution_count": null,
      "outputs": [
        {
          "output_type": "stream",
          "name": "stdout",
          "text": [
            "Dataset with the highest average retail value: Beef\n"
          ]
        }
      ]
    },
    {
      "cell_type": "code",
      "source": [
        "# Which date has the highest total spread in the Beef dataset?\n",
        "highest_total_spread_beef = beef['Total_Spread'].idxmax()\n",
        "date_highest_total_spread_beef = beef.loc[highest_total_spread_beef, 'Date']\n",
        "print(f\"Date with the highest total spread in Beef dataset: {date_highest_total_spread_beef}\")"
      ],
      "metadata": {
        "colab": {
          "base_uri": "https://localhost:8080/"
        },
        "id": "zbMHjFGydULG",
        "outputId": "99c3598a-3bb8-4055-de77-ed7a6152e0c5"
      },
      "execution_count": null,
      "outputs": [
        {
          "output_type": "stream",
          "name": "stdout",
          "text": [
            "Date with the highest total spread in Beef dataset: 2024-10-21 00:00:00\n"
          ]
        }
      ]
    },
    {
      "cell_type": "code",
      "source": [
        "# What is the average gross farm value for Pork?\n",
        "average_gross_farm_value_pork = pork['Gross_Farm_Value'].mean()\n",
        "print(f\"Average gross farm value for Pork: {average_gross_farm_value_pork}\")"
      ],
      "metadata": {
        "colab": {
          "base_uri": "https://localhost:8080/"
        },
        "id": "7Cj9Kf7gda9W",
        "outputId": "87996e6a-cb74-498c-f400-0c8fe4d42199"
      },
      "execution_count": null,
      "outputs": [
        {
          "output_type": "stream",
          "name": "stdout",
          "text": [
            "Average gross farm value for Pork: 89.27885802469136\n"
          ]
        }
      ]
    },
    {
      "cell_type": "code",
      "source": [
        "# Which month in the Pork dataset has the highest retail value?\n",
        "pork['Month'] = pork['Date'].dt.to_period('M')\n",
        "monthly_pork = pork.groupby('Month').first().reset_index()\n",
        "highest_retail_value_month_pork = monthly_pork.loc[monthly_pork['Retail_Value'].idxmax(), 'Month']\n",
        "print(f\"Month with the highest retail value in Pork dataset: {highest_retail_value_month_pork}\")"
      ],
      "metadata": {
        "colab": {
          "base_uri": "https://localhost:8080/"
        },
        "id": "iaVC_4DOdfx-",
        "outputId": "aa739327-3eb5-4d98-c56d-69b624e47e0f"
      },
      "execution_count": null,
      "outputs": [
        {
          "output_type": "stream",
          "name": "stdout",
          "text": [
            "Month with the highest retail value in Pork dataset: 2024-09\n"
          ]
        }
      ]
    },
    {
      "cell_type": "code",
      "source": [
        "# What is the average wholesale value across all datasets?\n",
        "average_wholesale_value = (beef['Wholesale_Value'].mean() + pork['Wholesale_Value'].mean() + chicken['Wholesale_Broiler_Composite'].mean()) / 3\n",
        "print(f\"Average wholesale value across all datasets: {average_wholesale_value}\")"
      ],
      "metadata": {
        "colab": {
          "base_uri": "https://localhost:8080/"
        },
        "id": "W7G_iAiedkBW",
        "outputId": "cf04e2aa-9288-401d-d537-075327675d18"
      },
      "execution_count": null,
      "outputs": [
        {
          "output_type": "stream",
          "name": "stdout",
          "text": [
            "Average wholesale value across all datasets: 134.1496075405471\n"
          ]
        }
      ]
    },
    {
      "cell_type": "code",
      "source": [
        "# Which dataset has the highest total spread?\n",
        "datasets = ['Beef', 'Pork', 'Chicken']\n",
        "total_spreads = [beef['Total_Spread'].sum(), pork['Total_Spread'].sum(), chicken['Retail_Wholesale_Spread'].sum()]\n",
        "print(f\"Dataset with the highest total spread: {datasets[total_spreads.index(max(total_spreads))]}\")"
      ],
      "metadata": {
        "colab": {
          "base_uri": "https://localhost:8080/"
        },
        "id": "bi74Mog8dnr2",
        "outputId": "f183316d-0f79-4b55-fe12-9e6db1b72dc7"
      },
      "execution_count": null,
      "outputs": [
        {
          "output_type": "stream",
          "name": "stdout",
          "text": [
            "Dataset with the highest total spread: Beef\n"
          ]
        }
      ]
    },
    {
      "cell_type": "code",
      "source": [
        "# What is the average farm-wholesale spread for Beef and Pork?\n",
        "average_gross_farm_value_pork = pork['Gross_Farm_Value'].mean()\n",
        "average_gross_farm_value_pork = beef['Gross_Farm_Value'].mean()\n",
        "print(f\"Average gross farm value for Pork: {average_gross_farm_value_pork}\")\n",
        "print(f\"Average gross farm value for Beef: {average_gross_farm_value_pork}\")"
      ],
      "metadata": {
        "colab": {
          "base_uri": "https://localhost:8080/"
        },
        "id": "a-tP3dMidrUe",
        "outputId": "fa02c3a5-fd78-4a9c-dd07-314ad80e4996"
      },
      "execution_count": null,
      "outputs": [
        {
          "output_type": "stream",
          "name": "stdout",
          "text": [
            "Average gross farm value for Pork: 195.01358024691356\n",
            "Average gross farm value for Beef: 195.01358024691356\n"
          ]
        }
      ]
    },
    {
      "cell_type": "code",
      "source": [
        "# Which date has the lowest wholesale-retail spread in the Pork dataset?\n",
        "lowest_wholesale_retail_spread_pork = pork['Wholesale_Retail_Spread'].idxmin()\n",
        "date_lowest_wholesale_retail_spread_pork = pork.loc[lowest_wholesale_retail_spread_pork, 'Date']\n",
        "print(f\"Date with the lowest wholesale-retail spread in Pork dataset: {date_lowest_wholesale_retail_spread_pork}\")"
      ],
      "metadata": {
        "colab": {
          "base_uri": "https://localhost:8080/"
        },
        "id": "FOdTlm7Zd3-2",
        "outputId": "cc602238-22c8-4b50-a5c3-1d8f2bea6f39"
      },
      "execution_count": null,
      "outputs": [
        {
          "output_type": "stream",
          "name": "stdout",
          "text": [
            "Date with the lowest wholesale-retail spread in Pork dataset: 1973-07-01 00:00:00\n"
          ]
        }
      ]
    },
    {
      "cell_type": "code",
      "source": [
        "# What is the correlation between Gross Farm Value and Retail Value in the Beef dataset?\n",
        "correlation_beef = beef['Gross_Farm_Value'].corr(beef['Retail_Value'])\n",
        "print(f\"Correlation between Gross Farm Value and Retail Value in Beef dataset: {correlation_beef}\")"
      ],
      "metadata": {
        "colab": {
          "base_uri": "https://localhost:8080/"
        },
        "id": "s7fV3MPBez_U",
        "outputId": "e190a700-afa3-45b8-f054-aadbf83e8304"
      },
      "execution_count": null,
      "outputs": [
        {
          "output_type": "stream",
          "name": "stdout",
          "text": [
            "Correlation between Gross Farm Value and Retail Value in Beef dataset: 0.9480684437713762\n"
          ]
        }
      ]
    },
    {
      "cell_type": "code",
      "source": [
        "# What is the standard deviation of Net Farm Value for Pork?\n",
        "std_dev_pork = pork['Net_Farm_Value'].std()\n",
        "print(f\"Standard deviation of Net Farm Value for Pork: {std_dev_pork}\")"
      ],
      "metadata": {
        "colab": {
          "base_uri": "https://localhost:8080/"
        },
        "id": "6z6GtYUhe2AM",
        "outputId": "33da4237-899b-4536-f15d-6fee19e31d94"
      },
      "execution_count": null,
      "outputs": [
        {
          "output_type": "stream",
          "name": "stdout",
          "text": [
            "Standard deviation of Net Farm Value for Pork: 21.422328270071272\n"
          ]
        }
      ]
    },
    {
      "cell_type": "code",
      "source": [
        "# Which dataset has the lowest average byproduct value?\n",
        "datasets = ['Beef', 'Pork', 'Chicken']\n",
        "byproduct_values = [min(beef['Byproduct'].mean(), pork['Byproduct'].mean(), chicken['Wholesale_Broiler_Composite'].mean())]\n",
        "print(f\"Dataset with the lowest average byproduct value: {datasets[byproduct_values.index(min(byproduct_values))]}\")"
      ],
      "metadata": {
        "colab": {
          "base_uri": "https://localhost:8080/"
        },
        "id": "0pREkB1Bfz_U",
        "outputId": "36bb8998-8bd3-48e3-bac8-419c336f147d"
      },
      "execution_count": null,
      "outputs": [
        {
          "output_type": "stream",
          "name": "stdout",
          "text": [
            "Dataset with the lowest average byproduct value: Beef\n"
          ]
        }
      ]
    },
    {
      "cell_type": "code",
      "source": [
        "# How many rows in the Chicken dataset have a retail-wholesale spread greater than 10?\n",
        "chicken_filtered = chicken[chicken['Retail_Wholesale_Spread'] > 10]\n",
        "num_rows_chicken = len(chicken_filtered)\n",
        "print(f\"Number of rows in Chicken dataset with retail-wholesale spread greater than 10: {num_rows_chicken}\")"
      ],
      "metadata": {
        "colab": {
          "base_uri": "https://localhost:8080/"
        },
        "id": "8v0suqrwee6t",
        "outputId": "acfb4393-a53e-41b3-ff8a-58a8c19652c6"
      },
      "execution_count": null,
      "outputs": [
        {
          "output_type": "stream",
          "name": "stdout",
          "text": [
            "Number of rows in Chicken dataset with retail-wholesale spread greater than 10: 408\n"
          ]
        }
      ]
    },
    {
      "cell_type": "code",
      "source": [],
      "metadata": {
        "id": "r2suQcFpiLYS"
      },
      "execution_count": null,
      "outputs": []
    },
    {
      "cell_type": "code",
      "source": [
        "import matplotlib.pyplot as plt\n",
        "\n",
        "# Filter for 2024 and group by month\n",
        "beef_2024 = beef[beef['Date'].dt.year == 2024].copy()\n",
        "pork_2024 = pork[pork['Date'].dt.year == 2024].copy()\n",
        "\n",
        "beef_2024['Month'] = beef_2024['Date'].dt.to_period('M')\n",
        "pork_2024['Month'] = pork_2024['Date'].dt.to_period('M')\n",
        "\n",
        "beef_monthly = beef_2024.groupby('Month').first().reset_index()\n",
        "pork_monthly = pork_2024.groupby('Month').first().reset_index()\n",
        "\n",
        "beef_monthly['Date'] = beef_monthly['Month'].dt.to_timestamp()\n",
        "pork_monthly['Date'] = pork_monthly['Month'].dt.to_timestamp()\n",
        "\n",
        "# Plot the updated chart\n",
        "plt.figure(figsize=(10, 5))\n",
        "plt.plot(beef_monthly['Date'], beef_monthly['All_Fresh_Beef_Retail_Value'], label='Beef', marker='o')\n",
        "plt.plot(pork_monthly['Date'], pork_monthly['Retail_Value'], label='Pork', marker='s')\n",
        "\n",
        "plt.xlabel('Date')\n",
        "plt.ylabel('Retail Value (Cents per Pound)')\n",
        "plt.title('Retail Value of Beef and Pork Over Time (Cents per Pound) - 2024')\n",
        "plt.legend()\n",
        "plt.xticks(rotation=45)\n",
        "plt.grid(True)\n",
        "plt.show()"
      ],
      "metadata": {
        "colab": {
          "base_uri": "https://localhost:8080/",
          "height": 503
        },
        "id": "K37hMnmmZi-j",
        "outputId": "231714fd-12f7-42a9-e317-193feed7ea88"
      },
      "execution_count": null,
      "outputs": [
        {
          "output_type": "display_data",
          "data": {
            "text/plain": [
              "<Figure size 1000x500 with 1 Axes>"
            ],
            "image/png": "[encoded data removed]"
          },
          "metadata": {}
        }
      ]
    },
    {
      "cell_type": "code",
      "source": [
        "#Calculate and visualize the correlation matrix for Retail Values across all datasets.\n",
        "import seaborn as sns\n",
        "correlation_matrix = pd.DataFrame({\n",
        "    'Beef': beef['Retail_Value'],\n",
        "    'Pork': pork['Retail_Value'],\n",
        "    'Chicken': chicken['Retail_Broiler_Composite']\n",
        "}).corr()\n",
        "\n",
        "plt.figure(figsize=(8, 6))\n",
        "sns.heatmap(correlation_matrix, annot=True, cmap='icefire_r', fmt=\".2f\")\n",
        "plt.title('Correlation Matrix for Retail Values')\n",
        "plt.show()"
      ],
      "metadata": {
        "colab": {
          "base_uri": "https://localhost:8080/",
          "height": 545
        },
        "id": "gAqDWjx9iXcp",
        "outputId": "e45b99bf-b8c0-4901-e859-b630a742db06"
      },
      "execution_count": null,
      "outputs": [
        {
          "output_type": "display_data",
          "data": {
            "text/plain": [
              "<Figure size 800x600 with 2 Axes>"
            ],
            "image/png": "[encoded data removed]"
          },
          "metadata": {}
        }
      ]
    },
    {
      "cell_type": "code",
      "source": [
        "# Calculate and Perform a linear regression to model Chicken retail prices based on Beef and Pork retail prices.\n",
        "\n",
        "import statsmodels.api as sm\n",
        "import pandas as pd\n",
        "\n",
        "\n",
        "\n",
        "# Merge the datasets on 'Date' to align data points\n",
        "merged_df = pd.merge(beef[['Date', 'Retail_Value']], pork[['Date', 'Retail_Value']], on='Date', how='inner', suffixes=('_beef', '_pork'))\n",
        "merged_df = pd.merge(merged_df, chicken[['Date', 'Retail_Broiler_Composite']], on='Date', how='inner')\n",
        "\n",
        "# Prepare the data for the linear regression model\n",
        "X = merged_df[['Retail_Value_beef', 'Retail_Value_pork']]  # Features: Beef and Pork retail prices\n",
        "y = merged_df['Retail_Broiler_Composite']  # Target: Chicken retail prices\n",
        "\n",
        "# Create and fit the linear regression model\n",
        "#The line below has been edited\n",
        "model = sm.OLS(y, sm.add_constant(X)).fit() #add a constant to the model\n",
        "\n",
        "\n",
        "\n",
        "\n",
        "# Predict chicken prices and add them to the merged dataframe\n",
        "merged_df['Predicted_Chicken_Price'] = model.predict(sm.add_constant(X))\n",
        "\n",
        "print(f\"Coefficients: {model.params[1:]}\") #access coefficients from params\n",
        "print(f\"Intercept: {model.params[0]}\") #access intercept from params\n",
        "\n",
        "\n",
        "print(model.summary())"
      ],
      "metadata": {
        "colab": {
          "base_uri": "https://localhost:8080/"
        },
        "id": "vyPmISQwi9jR",
        "outputId": "1efe252d-3b05-4837-e6ca-516318c7508d"
      },
      "execution_count": null,
      "outputs": [
        {
          "output_type": "stream",
          "name": "stdout",
          "text": [
            "Coefficients: Retail_Value_beef   -0.033736\n",
            "Retail_Value_pork    0.250076\n",
            "dtype: float64\n",
            "Intercept: 100.75446668664223\n",
            "                               OLS Regression Results                               \n",
            "====================================================================================\n",
            "Dep. Variable:     Retail_Broiler_Composite   R-squared:                       0.686\n",
            "Model:                                  OLS   Adj. R-squared:                  0.681\n",
            "Method:                       Least Squares   F-statistic:                     140.7\n",
            "Date:                      Mon, 31 Mar 2025   Prob (F-statistic):           3.77e-33\n",
            "Time:                              19:12:22   Log-Likelihood:                -333.48\n",
            "No. Observations:                       132   AIC:                             673.0\n",
            "Df Residuals:                           129   BIC:                             681.6\n",
            "Df Model:                                 2                                         \n",
            "Covariance Type:                  nonrobust                                         \n",
            "=====================================================================================\n",
            "                        coef    std err          t      P>|t|      [0.025      0.975]\n",
            "-------------------------------------------------------------------------------------\n",
            "const               100.7545      8.279     12.170      0.000      84.375     117.134\n",
            "Retail_Value_beef    -0.0337      0.030     -1.131      0.260      -0.093       0.025\n",
            "Retail_Value_pork     0.2501      0.015     16.404      0.000       0.220       0.280\n",
            "==============================================================================\n",
            "Omnibus:                        1.702   Durbin-Watson:                   0.810\n",
            "Prob(Omnibus):                  0.427   Jarque-Bera (JB):                1.750\n",
            "Skew:                          -0.262   Prob(JB):                        0.417\n",
            "Kurtosis:                       2.791   Cond. No.                     1.14e+04\n",
            "==============================================================================\n",
            "\n",
            "Notes:\n",
            "[1] Standard Errors assume that the covariance matrix of the errors is correctly specified.\n",
            "[2] The condition number is large, 1.14e+04. This might indicate that there are\n",
            "strong multicollinearity or other numerical problems.\n"
          ]
        },
        {
          "output_type": "stream",
          "name": "stderr",
          "text": [
            "<ipython-input-137-348679e83290>:27: FutureWarning: Series.__getitem__ treating keys as positions is deprecated. In a future version, integer keys will always be treated as labels (consistent with DataFrame behavior). To access a value by position, use `ser.iloc[pos]`\n",
            "  print(f\"Intercept: {model.params[0]}\") #access intercept from params\n"
          ]
        }
      ]
    },
    {
      "cell_type": "code",
      "source": [
        "!jupyter nbconvert --to html \"/content/drive/My Drive/ISA3020/MeatPrices.ipynb\" --output-dir \"/content/drive/My Drive/ISA3020\" --output \"MeatPrices.html\""
      ],
      "metadata": {
        "colab": {
          "base_uri": "https://localhost:8080/"
        },
        "id": "qhYkqKqunJJF",
        "outputId": "5972e570-9ab2-495e-bc21-1e89ac532ce1"
      },
      "execution_count": null,
      "outputs": [
        {
          "output_type": "stream",
          "name": "stdout",
          "text": [
            "[NbConvertApp] WARNING | pattern '/content/drive/My Drive/ISA3020/MeatPrices.ipynb' matched no files\n",
            "This application is used to convert notebook files (*.ipynb)\n",
            "        to various other formats.\n",
            "\n",
            "        WARNING: THE COMMANDLINE INTERFACE MAY CHANGE IN FUTURE RELEASES.\n",
            "\n",
            "Options\n",
            "=======\n",
            "The options below are convenience aliases to configurable class-options,\n",
            "as listed in the \"Equivalent to\" description-line of the aliases.\n",
            "To see all configurable class-options for some <cmd>, use:\n",
            "    <cmd> --help-all\n",
            "\n",
            "--debug\n",
            "    set log level to logging.DEBUG (maximize logging output)\n",
            "    Equivalent to: [--Application.log_level=10]\n",
            "--show-config\n",
            "    Show the application's configuration (human-readable format)\n",
            "    Equivalent to: [--Application.show_config=True]\n",
            "--show-config-json\n",
            "    Show the application's configuration (json format)\n",
            "    Equivalent to: [--Application.show_config_json=True]\n",
            "--generate-config\n",
            "    generate default config file\n",
            "    Equivalent to: [--JupyterApp.generate_config=True]\n",
            "-y\n",
            "    Answer yes to any questions instead of prompting.\n",
            "    Equivalent to: [--JupyterApp.answer_yes=True]\n",
            "--execute\n",
            "    Execute the notebook prior to export.\n",
            "    Equivalent to: [--ExecutePreprocessor.enabled=True]\n",
            "--allow-errors\n",
            "    Continue notebook execution even if one of the cells throws an error and include the error message in the cell output (the default behaviour is to abort conversion). This flag is only relevant if '--execute' was specified, too.\n",
            "    Equivalent to: [--ExecutePreprocessor.allow_errors=True]\n",
            "--stdin\n",
            "    read a single notebook file from stdin. Write the resulting notebook with default basename 'notebook.*'\n",
            "    Equivalent to: [--NbConvertApp.from_stdin=True]\n",
            "--stdout\n",
            "    Write notebook output to stdout instead of files.\n",
            "    Equivalent to: [--NbConvertApp.writer_class=StdoutWriter]\n",
            "--inplace\n",
            "    Run nbconvert in place, overwriting the existing notebook (only\n",
            "            relevant when converting to notebook format)\n",
            "    Equivalent to: [--NbConvertApp.use_output_suffix=False --NbConvertApp.export_format=notebook --FilesWriter.build_directory=]\n",
            "--clear-output\n",
            "    Clear output of current file and save in place,\n",
            "            overwriting the existing notebook.\n",
            "    Equivalent to: [--NbConvertApp.use_output_suffix=False --NbConvertApp.export_format=notebook --FilesWriter.build_directory= --ClearOutputPreprocessor.enabled=True]\n",
            "--coalesce-streams\n",
            "    Coalesce consecutive stdout and stderr outputs into one stream (within each cell).\n",
            "    Equivalent to: [--NbConvertApp.use_output_suffix=False --NbConvertApp.export_format=notebook --FilesWriter.build_directory= --CoalesceStreamsPreprocessor.enabled=True]\n",
            "--no-prompt\n",
            "    Exclude input and output prompts from converted document.\n",
            "    Equivalent to: [--TemplateExporter.exclude_input_prompt=True --TemplateExporter.exclude_output_prompt=True]\n",
            "--no-input\n",
            "    Exclude input cells and output prompts from converted document.\n",
            "            This mode is ideal for generating code-free reports.\n",
            "    Equivalent to: [--TemplateExporter.exclude_output_prompt=True --TemplateExporter.exclude_input=True --TemplateExporter.exclude_input_prompt=True]\n",
            "--allow-chromium-download\n",
            "    Whether to allow downloading chromium if no suitable version is found on the system.\n",
            "    Equivalent to: [--WebPDFExporter.allow_chromium_download=True]\n",
            "--disable-chromium-sandbox\n",
            "    Disable chromium security sandbox when converting to PDF..\n",
            "    Equivalent to: [--WebPDFExporter.disable_sandbox=True]\n",
            "--show-input\n",
            "    Shows code input. This flag is only useful for dejavu users.\n",
            "    Equivalent to: [--TemplateExporter.exclude_input=False]\n",
            "--embed-images\n",
            "    Embed the images as base64 dataurls in the output. This flag is only useful for the HTML/WebPDF/Slides exports.\n",
            "    Equivalent to: [--HTMLExporter.embed_images=True]\n",
            "--sanitize-html\n",
            "    Whether the HTML in Markdown cells and cell outputs should be sanitized..\n",
            "    Equivalent to: [--HTMLExporter.sanitize_html=True]\n",
            "--log-level=<Enum>\n",
            "    Set the log level by value or name.\n",
            "    Choices: any of [0, 10, 20, 30, 40, 50, 'DEBUG', 'INFO', 'WARN', 'ERROR', 'CRITICAL']\n",
            "    Default: 30\n",
            "    Equivalent to: [--Application.log_level]\n",
            "--config=<Unicode>\n",
            "    Full path of a config file.\n",
            "    Default: ''\n",
            "    Equivalent to: [--JupyterApp.config_file]\n",
            "--to=<Unicode>\n",
            "    The export format to be used, either one of the built-in formats\n",
            "            ['asciidoc', 'custom', 'html', 'latex', 'markdown', 'notebook', 'pdf', 'python', 'qtpdf', 'qtpng', 'rst', 'script', 'slides', 'webpdf']\n",
            "            or a dotted object name that represents the import path for an\n",
            "            ``Exporter`` class\n",
            "    Default: ''\n",
            "    Equivalent to: [--NbConvertApp.export_format]\n",
            "--template=<Unicode>\n",
            "    Name of the template to use\n",
            "    Default: ''\n",
            "    Equivalent to: [--TemplateExporter.template_name]\n",
            "--template-file=<Unicode>\n",
            "    Name of the template file to use\n",
            "    Default: None\n",
            "    Equivalent to: [--TemplateExporter.template_file]\n",
            "--theme=<Unicode>\n",
            "    Template specific theme(e.g. the name of a JupyterLab CSS theme distributed\n",
            "    as prebuilt extension for the lab template)\n",
            "    Default: 'light'\n",
            "    Equivalent to: [--HTMLExporter.theme]\n",
            "--sanitize_html=<Bool>\n",
            "    Whether the HTML in Markdown cells and cell outputs should be sanitized.This\n",
            "    should be set to True by nbviewer or similar tools.\n",
            "    Default: False\n",
            "    Equivalent to: [--HTMLExporter.sanitize_html]\n",
            "--writer=<DottedObjectName>\n",
            "    Writer class used to write the\n",
            "                                        results of the conversion\n",
            "    Default: 'FilesWriter'\n",
            "    Equivalent to: [--NbConvertApp.writer_class]\n",
            "--post=<DottedOrNone>\n",
            "    PostProcessor class used to write the\n",
            "                                        results of the conversion\n",
            "    Default: ''\n",
            "    Equivalent to: [--NbConvertApp.postprocessor_class]\n",
            "--output=<Unicode>\n",
            "    Overwrite base name use for output files.\n",
            "                Supports pattern replacements '{notebook_name}'.\n",
            "    Default: '{notebook_name}'\n",
            "    Equivalent to: [--NbConvertApp.output_base]\n",
            "--output-dir=<Unicode>\n",
            "    Directory to write output(s) to. Defaults\n",
            "                                  to output to the directory of each notebook. To recover\n",
            "                                  previous default behaviour (outputting to the current\n",
            "                                  working directory) use . as the flag value.\n",
            "    Default: ''\n",
            "    Equivalent to: [--FilesWriter.build_directory]\n",
            "--reveal-prefix=<Unicode>\n",
            "    The URL prefix for reveal.js (version 3.x).\n",
            "            This defaults to the reveal CDN, but can be any url pointing to a copy\n",
            "            of reveal.js.\n",
            "            For speaker notes to work, this must be a relative path to a local\n",
            "            copy of reveal.js: e.g., \"reveal.js\".\n",
            "            If a relative path is given, it must be a subdirectory of the\n",
            "            current directory (from which the server is run).\n",
            "            See the usage documentation\n",
            "            (https://nbconvert.readthedocs.io/en/latest/usage.html#reveal-js-html-slideshow)\n",
            "            for more details.\n",
            "    Default: ''\n",
            "    Equivalent to: [--SlidesExporter.reveal_url_prefix]\n",
            "--nbformat=<Enum>\n",
            "    The nbformat version to write.\n",
            "            Use this to downgrade notebooks.\n",
            "    Choices: any of [1, 2, 3, 4]\n",
            "    Default: 4\n",
            "    Equivalent to: [--NotebookExporter.nbformat_version]\n",
            "\n",
            "Examples\n",
            "--------\n",
            "\n",
            "    The simplest way to use nbconvert is\n",
            "\n",
            "            > jupyter nbconvert mynotebook.ipynb --to html\n",
            "\n",
            "            Options include ['asciidoc', 'custom', 'html', 'latex', 'markdown', 'notebook', 'pdf', 'python', 'qtpdf', 'qtpng', 'rst', 'script', 'slides', 'webpdf'].\n",
            "\n",
            "            > jupyter nbconvert --to latex mynotebook.ipynb\n",
            "\n",
            "            Both HTML and LaTeX support multiple output templates. LaTeX includes\n",
            "            'base', 'article' and 'report'.  HTML includes 'basic', 'lab' and\n",
            "            'classic'. You can specify the flavor of the format used.\n",
            "\n",
            "            > jupyter nbconvert --to html --template lab mynotebook.ipynb\n",
            "\n",
            "            You can also pipe the output to stdout, rather than a file\n",
            "\n",
            "            > jupyter nbconvert mynotebook.ipynb --stdout\n",
            "\n",
            "            PDF is generated via latex\n",
            "\n",
            "            > jupyter nbconvert mynotebook.ipynb --to pdf\n",
            "\n",
            "            You can get (and serve) a Reveal.js-powered slideshow\n",
            "\n",
            "            > jupyter nbconvert myslides.ipynb --to slides --post serve\n",
            "\n",
            "            Multiple notebooks can be given at the command line in a couple of\n",
            "            different ways:\n",
            "\n",
            "            > jupyter nbconvert notebook*.ipynb\n",
            "            > jupyter nbconvert notebook1.ipynb notebook2.ipynb\n",
            "\n",
            "            or you can specify the notebooks list in a config file, containing::\n",
            "\n",
            "                c.NbConvertApp.notebooks = [\"my_notebook.ipynb\"]\n",
            "\n",
            "            > jupyter nbconvert --config mycfg.py\n",
            "\n",
            "To see all available configurables, use `--help-all`.\n",
            "\n"
          ]
        }
      ]
    }
  ]
}